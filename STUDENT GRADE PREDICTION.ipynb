{
 "cells": [
  {
   "cell_type": "code",
   "execution_count": 1,
   "id": "81092b38",
   "metadata": {},
   "outputs": [],
   "source": [
    "import pandas as pd \n",
    "import numpy as np \n",
    "import seaborn as sns\n",
    "import matplotlib.pyplot as plt"
   ]
  },
  {
   "cell_type": "code",
   "execution_count": 2,
   "id": "01a87be9",
   "metadata": {},
   "outputs": [],
   "source": [
    "url = \"https://raw.githubusercontent.com/FlipRoboTechnologies/ML-Datasets/main/Grades/Grades.csv\"\n",
    "data = pd.read_csv(url)"
   ]
  },
  {
   "cell_type": "code",
   "execution_count": 3,
   "id": "678f6b54",
   "metadata": {},
   "outputs": [
    {
     "data": {
      "text/html": [
       "<div>\n",
       "<style scoped>\n",
       "    .dataframe tbody tr th:only-of-type {\n",
       "        vertical-align: middle;\n",
       "    }\n",
       "\n",
       "    .dataframe tbody tr th {\n",
       "        vertical-align: top;\n",
       "    }\n",
       "\n",
       "    .dataframe thead th {\n",
       "        text-align: right;\n",
       "    }\n",
       "</style>\n",
       "<table border=\"1\" class=\"dataframe\">\n",
       "  <thead>\n",
       "    <tr style=\"text-align: right;\">\n",
       "      <th></th>\n",
       "      <th>Seat No.</th>\n",
       "      <th>PH-121</th>\n",
       "      <th>HS-101</th>\n",
       "      <th>CY-105</th>\n",
       "      <th>HS-105/12</th>\n",
       "      <th>MT-111</th>\n",
       "      <th>CS-105</th>\n",
       "      <th>CS-106</th>\n",
       "      <th>EL-102</th>\n",
       "      <th>EE-119</th>\n",
       "      <th>...</th>\n",
       "      <th>CS-312</th>\n",
       "      <th>CS-317</th>\n",
       "      <th>CS-403</th>\n",
       "      <th>CS-421</th>\n",
       "      <th>CS-406</th>\n",
       "      <th>CS-414</th>\n",
       "      <th>CS-419</th>\n",
       "      <th>CS-423</th>\n",
       "      <th>CS-412</th>\n",
       "      <th>CGPA</th>\n",
       "    </tr>\n",
       "  </thead>\n",
       "  <tbody>\n",
       "    <tr>\n",
       "      <th>0</th>\n",
       "      <td>CS-97001</td>\n",
       "      <td>B-</td>\n",
       "      <td>D+</td>\n",
       "      <td>C-</td>\n",
       "      <td>C</td>\n",
       "      <td>C-</td>\n",
       "      <td>D+</td>\n",
       "      <td>D</td>\n",
       "      <td>C-</td>\n",
       "      <td>B-</td>\n",
       "      <td>...</td>\n",
       "      <td>C-</td>\n",
       "      <td>C-</td>\n",
       "      <td>C-</td>\n",
       "      <td>C-</td>\n",
       "      <td>A-</td>\n",
       "      <td>A</td>\n",
       "      <td>C-</td>\n",
       "      <td>B</td>\n",
       "      <td>A-</td>\n",
       "      <td>2.205</td>\n",
       "    </tr>\n",
       "    <tr>\n",
       "      <th>1</th>\n",
       "      <td>CS-97002</td>\n",
       "      <td>A</td>\n",
       "      <td>D</td>\n",
       "      <td>D+</td>\n",
       "      <td>D</td>\n",
       "      <td>B-</td>\n",
       "      <td>C</td>\n",
       "      <td>D</td>\n",
       "      <td>A</td>\n",
       "      <td>D+</td>\n",
       "      <td>...</td>\n",
       "      <td>D+</td>\n",
       "      <td>D</td>\n",
       "      <td>C</td>\n",
       "      <td>D</td>\n",
       "      <td>A-</td>\n",
       "      <td>B-</td>\n",
       "      <td>C</td>\n",
       "      <td>C</td>\n",
       "      <td>B</td>\n",
       "      <td>2.008</td>\n",
       "    </tr>\n",
       "    <tr>\n",
       "      <th>2</th>\n",
       "      <td>CS-97003</td>\n",
       "      <td>A</td>\n",
       "      <td>B</td>\n",
       "      <td>A</td>\n",
       "      <td>B-</td>\n",
       "      <td>B+</td>\n",
       "      <td>A</td>\n",
       "      <td>B-</td>\n",
       "      <td>B+</td>\n",
       "      <td>A-</td>\n",
       "      <td>...</td>\n",
       "      <td>B</td>\n",
       "      <td>B</td>\n",
       "      <td>A</td>\n",
       "      <td>C</td>\n",
       "      <td>A</td>\n",
       "      <td>A</td>\n",
       "      <td>A</td>\n",
       "      <td>A-</td>\n",
       "      <td>A</td>\n",
       "      <td>3.608</td>\n",
       "    </tr>\n",
       "    <tr>\n",
       "      <th>3</th>\n",
       "      <td>CS-97004</td>\n",
       "      <td>D</td>\n",
       "      <td>C+</td>\n",
       "      <td>D+</td>\n",
       "      <td>D</td>\n",
       "      <td>D</td>\n",
       "      <td>A-</td>\n",
       "      <td>D+</td>\n",
       "      <td>C-</td>\n",
       "      <td>D</td>\n",
       "      <td>...</td>\n",
       "      <td>D+</td>\n",
       "      <td>C</td>\n",
       "      <td>D+</td>\n",
       "      <td>C-</td>\n",
       "      <td>B-</td>\n",
       "      <td>B</td>\n",
       "      <td>C+</td>\n",
       "      <td>C+</td>\n",
       "      <td>C+</td>\n",
       "      <td>1.906</td>\n",
       "    </tr>\n",
       "    <tr>\n",
       "      <th>4</th>\n",
       "      <td>CS-97005</td>\n",
       "      <td>A-</td>\n",
       "      <td>A-</td>\n",
       "      <td>A-</td>\n",
       "      <td>B+</td>\n",
       "      <td>A</td>\n",
       "      <td>A</td>\n",
       "      <td>A-</td>\n",
       "      <td>B+</td>\n",
       "      <td>A</td>\n",
       "      <td>...</td>\n",
       "      <td>B-</td>\n",
       "      <td>B+</td>\n",
       "      <td>B+</td>\n",
       "      <td>B-</td>\n",
       "      <td>A-</td>\n",
       "      <td>A</td>\n",
       "      <td>A-</td>\n",
       "      <td>A-</td>\n",
       "      <td>A</td>\n",
       "      <td>3.448</td>\n",
       "    </tr>\n",
       "  </tbody>\n",
       "</table>\n",
       "<p>5 rows × 43 columns</p>\n",
       "</div>"
      ],
      "text/plain": [
       "   Seat No. PH-121 HS-101 CY-105 HS-105/12 MT-111 CS-105 CS-106 EL-102 EE-119  \\\n",
       "0  CS-97001     B-     D+     C-         C     C-     D+      D     C-     B-   \n",
       "1  CS-97002      A      D     D+         D     B-      C      D      A     D+   \n",
       "2  CS-97003      A      B      A        B-     B+      A     B-     B+     A-   \n",
       "3  CS-97004      D     C+     D+         D      D     A-     D+     C-      D   \n",
       "4  CS-97005     A-     A-     A-        B+      A      A     A-     B+      A   \n",
       "\n",
       "   ... CS-312 CS-317 CS-403 CS-421 CS-406 CS-414 CS-419 CS-423 CS-412   CGPA  \n",
       "0  ...     C-     C-     C-     C-     A-      A     C-      B     A-  2.205  \n",
       "1  ...     D+      D      C      D     A-     B-      C      C      B  2.008  \n",
       "2  ...      B      B      A      C      A      A      A     A-      A  3.608  \n",
       "3  ...     D+      C     D+     C-     B-      B     C+     C+     C+  1.906  \n",
       "4  ...     B-     B+     B+     B-     A-      A     A-     A-      A  3.448  \n",
       "\n",
       "[5 rows x 43 columns]"
      ]
     },
     "execution_count": 3,
     "metadata": {},
     "output_type": "execute_result"
    }
   ],
   "source": [
    "data.head()"
   ]
  },
  {
   "cell_type": "code",
   "execution_count": 4,
   "id": "5b1e48e9",
   "metadata": {},
   "outputs": [
    {
     "name": "stdout",
     "output_type": "stream",
     "text": [
      "<class 'pandas.core.frame.DataFrame'>\n",
      "RangeIndex: 571 entries, 0 to 570\n",
      "Data columns (total 43 columns):\n",
      " #   Column     Non-Null Count  Dtype  \n",
      "---  ------     --------------  -----  \n",
      " 0   Seat No.   571 non-null    object \n",
      " 1   PH-121     571 non-null    object \n",
      " 2   HS-101     571 non-null    object \n",
      " 3   CY-105     570 non-null    object \n",
      " 4   HS-105/12  570 non-null    object \n",
      " 5   MT-111     569 non-null    object \n",
      " 6   CS-105     571 non-null    object \n",
      " 7   CS-106     569 non-null    object \n",
      " 8   EL-102     569 non-null    object \n",
      " 9   EE-119     569 non-null    object \n",
      " 10  ME-107     569 non-null    object \n",
      " 11  CS-107     569 non-null    object \n",
      " 12  HS-205/20  566 non-null    object \n",
      " 13  MT-222     566 non-null    object \n",
      " 14  EE-222     564 non-null    object \n",
      " 15  MT-224     564 non-null    object \n",
      " 16  CS-210     564 non-null    object \n",
      " 17  CS-211     566 non-null    object \n",
      " 18  CS-203     566 non-null    object \n",
      " 19  CS-214     565 non-null    object \n",
      " 20  EE-217     565 non-null    object \n",
      " 21  CS-212     565 non-null    object \n",
      " 22  CS-215     565 non-null    object \n",
      " 23  MT-331     562 non-null    object \n",
      " 24  EF-303     561 non-null    object \n",
      " 25  HS-304     561 non-null    object \n",
      " 26  CS-301     561 non-null    object \n",
      " 27  CS-302     561 non-null    object \n",
      " 28  TC-383     561 non-null    object \n",
      " 29  MT-442     561 non-null    object \n",
      " 30  EL-332     562 non-null    object \n",
      " 31  CS-318     562 non-null    object \n",
      " 32  CS-306     562 non-null    object \n",
      " 33  CS-312     561 non-null    object \n",
      " 34  CS-317     559 non-null    object \n",
      " 35  CS-403     559 non-null    object \n",
      " 36  CS-421     559 non-null    object \n",
      " 37  CS-406     486 non-null    object \n",
      " 38  CS-414     558 non-null    object \n",
      " 39  CS-419     558 non-null    object \n",
      " 40  CS-423     557 non-null    object \n",
      " 41  CS-412     492 non-null    object \n",
      " 42  CGPA       571 non-null    float64\n",
      "dtypes: float64(1), object(42)\n",
      "memory usage: 191.9+ KB\n"
     ]
    }
   ],
   "source": [
    "data.info()"
   ]
  },
  {
   "cell_type": "code",
   "execution_count": 10,
   "id": "e59c1682",
   "metadata": {},
   "outputs": [
    {
     "data": {
      "text/plain": [
       "(571, 43)"
      ]
     },
     "execution_count": 10,
     "metadata": {},
     "output_type": "execute_result"
    }
   ],
   "source": [
    "data.shape"
   ]
  },
  {
   "cell_type": "code",
   "execution_count": 11,
   "id": "61ff5d76",
   "metadata": {},
   "outputs": [
    {
     "data": {
      "text/plain": [
       "Seat No.      0\n",
       "PH-121        0\n",
       "HS-101        0\n",
       "CY-105        1\n",
       "HS-105/12     1\n",
       "MT-111        2\n",
       "CS-105        0\n",
       "CS-106        2\n",
       "EL-102        2\n",
       "EE-119        2\n",
       "ME-107        2\n",
       "CS-107        2\n",
       "HS-205/20     5\n",
       "MT-222        5\n",
       "EE-222        7\n",
       "MT-224        7\n",
       "CS-210        7\n",
       "CS-211        5\n",
       "CS-203        5\n",
       "CS-214        6\n",
       "EE-217        6\n",
       "CS-212        6\n",
       "CS-215        6\n",
       "MT-331        9\n",
       "EF-303       10\n",
       "HS-304       10\n",
       "CS-301       10\n",
       "CS-302       10\n",
       "TC-383       10\n",
       "MT-442       10\n",
       "EL-332        9\n",
       "CS-318        9\n",
       "CS-306        9\n",
       "CS-312       10\n",
       "CS-317       12\n",
       "CS-403       12\n",
       "CS-421       12\n",
       "CS-406       85\n",
       "CS-414       13\n",
       "CS-419       13\n",
       "CS-423       14\n",
       "CS-412       79\n",
       "CGPA          0\n",
       "dtype: int64"
      ]
     },
     "execution_count": 11,
     "metadata": {},
     "output_type": "execute_result"
    }
   ],
   "source": [
    "data.isna().sum()"
   ]
  },
  {
   "cell_type": "code",
   "execution_count": 7,
   "id": "9009917f",
   "metadata": {},
   "outputs": [
    {
     "data": {
      "text/html": [
       "<div>\n",
       "<style scoped>\n",
       "    .dataframe tbody tr th:only-of-type {\n",
       "        vertical-align: middle;\n",
       "    }\n",
       "\n",
       "    .dataframe tbody tr th {\n",
       "        vertical-align: top;\n",
       "    }\n",
       "\n",
       "    .dataframe thead th {\n",
       "        text-align: right;\n",
       "    }\n",
       "</style>\n",
       "<table border=\"1\" class=\"dataframe\">\n",
       "  <thead>\n",
       "    <tr style=\"text-align: right;\">\n",
       "      <th></th>\n",
       "      <th>CGPA</th>\n",
       "    </tr>\n",
       "  </thead>\n",
       "  <tbody>\n",
       "    <tr>\n",
       "      <th>count</th>\n",
       "      <td>571.000000</td>\n",
       "    </tr>\n",
       "    <tr>\n",
       "      <th>mean</th>\n",
       "      <td>2.954888</td>\n",
       "    </tr>\n",
       "    <tr>\n",
       "      <th>std</th>\n",
       "      <td>0.620552</td>\n",
       "    </tr>\n",
       "    <tr>\n",
       "      <th>min</th>\n",
       "      <td>0.800000</td>\n",
       "    </tr>\n",
       "    <tr>\n",
       "      <th>25%</th>\n",
       "      <td>2.538000</td>\n",
       "    </tr>\n",
       "    <tr>\n",
       "      <th>50%</th>\n",
       "      <td>3.029000</td>\n",
       "    </tr>\n",
       "    <tr>\n",
       "      <th>75%</th>\n",
       "      <td>3.451000</td>\n",
       "    </tr>\n",
       "    <tr>\n",
       "      <th>max</th>\n",
       "      <td>3.985000</td>\n",
       "    </tr>\n",
       "  </tbody>\n",
       "</table>\n",
       "</div>"
      ],
      "text/plain": [
       "             CGPA\n",
       "count  571.000000\n",
       "mean     2.954888\n",
       "std      0.620552\n",
       "min      0.800000\n",
       "25%      2.538000\n",
       "50%      3.029000\n",
       "75%      3.451000\n",
       "max      3.985000"
      ]
     },
     "execution_count": 7,
     "metadata": {},
     "output_type": "execute_result"
    }
   ],
   "source": [
    "data.describe()"
   ]
  },
  {
   "cell_type": "code",
   "execution_count": 12,
   "id": "0aee20c7",
   "metadata": {},
   "outputs": [
    {
     "data": {
      "text/plain": [
       "<seaborn.axisgrid.PairGrid at 0x272de525c50>"
      ]
     },
     "execution_count": 12,
     "metadata": {},
     "output_type": "execute_result"
    },
    {
     "data": {
      "image/png": "[encoded data removed]",
      "text/plain": [
       "<Figure size 250x250 with 2 Axes>"
      ]
     },
     "metadata": {},
     "output_type": "display_data"
    }
   ],
   "source": [
    "sns.pairplot(data=data)"
   ]
  },
  {
   "cell_type": "code",
   "execution_count": 8,
   "id": "1d537f17",
   "metadata": {},
   "outputs": [
    {
     "data": {
      "text/plain": [
       "<Axes: >"
      ]
     },
     "execution_count": 8,
     "metadata": {},
     "output_type": "execute_result"
    },
    {
     "data": {
      "image/png": "[encoded data removed]",
      "text/plain": [
       "<Figure size 640x480 with 1 Axes>"
      ]
     },
     "metadata": {},
     "output_type": "display_data"
    }
   ],
   "source": [
    "data.plot()"
   ]
  },
  {
   "cell_type": "code",
   "execution_count": null,
   "id": "f83272f3",
   "metadata": {},
   "outputs": [],
   "source": []
  }
 ],
 "metadata": {
  "kernelspec": {
   "display_name": "Python 3 (ipykernel)",
   "language": "python",
   "name": "python3"
  },
  "language_info": {
   "codemirror_mode": {
    "name": "ipython",
    "version": 3
   },
   "file_extension": ".py",
   "mimetype": "text/x-python",
   "name": "python",
   "nbconvert_exporter": "python",
   "pygments_lexer": "ipython3",
   "version": "3.11.4"
  }
 },
 "nbformat": 4,
 "nbformat_minor": 5
}
